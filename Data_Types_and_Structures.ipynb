{
  "nbformat": 4,
  "nbformat_minor": 0,
  "metadata": {
    "colab": {
      "provenance": []
    },
    "kernelspec": {
      "name": "python3",
      "display_name": "Python 3"
    },
    "language_info": {
      "name": "python"
    }
  },
  "cells": [
    {
      "cell_type": "markdown",
      "source": [
        "#Data Types and Structures Question\n",
        "\n",
        "1. What are data structures, and why are they important?\n",
        "- Data structures are specialized formats used to organize, store, retrieve, and manipulate data efficiently. They serve as frameworks for arranging data to meet specific needs or objectives. Examples include arrays, linked lists, stacks, queues, trees, graphs, etc. These structures not only store the actual data values but also maintain information about relationships between them.\n",
        "\n",
        "- **Importance:**\n",
        "- **Efficiency**:- Data structures enable faster and more effective computations by optimizing operations such as searching, insertion, deletion, and sorting.\n",
        "- **Performance**:- They improve program performance by reducing time and space complexity.\n",
        "- **Scalability**:- Properly chosen data structures ensure programs can handle large datasets effectively.\n",
        "\n",
        "2. Explain the difference between mutable and immutable data types with examples.\n",
        "- In Python, **mutable** objects can be modified after their creation, while **immutable** objects cannot be altered once defined.\n",
        "- Mutable Data Types: Examples: list, dict, set"
      ],
      "metadata": {
        "id": "LP_sCbwq5cEj"
      }
    },
    {
      "cell_type": "code",
      "source": [
        "my_list = [1, 2, 3]\n",
        "my_list.append(4)\n",
        "my_list[0] = 10\n",
        "print(my_list)"
      ],
      "metadata": {
        "colab": {
          "base_uri": "https://localhost:8080/"
        },
        "id": "MoO5h_DU_kCh",
        "outputId": "9dcba58f-0c20-4b52-e284-31a7f91b7eec"
      },
      "execution_count": null,
      "outputs": [
        {
          "output_type": "stream",
          "name": "stdout",
          "text": [
            "[10, 2, 3, 4]\n"
          ]
        }
      ]
    },
    {
      "cell_type": "code",
      "source": [
        "my_dict = {'a': 1, 'b': 2}\n",
        "my_dict['c'] = 3\n",
        "del my_dict['a']\n",
        "print(my_dict)"
      ],
      "metadata": {
        "colab": {
          "base_uri": "https://localhost:8080/"
        },
        "id": "phXL4W_zAfl_",
        "outputId": "b0e94920-1375-4ebb-f895-e6731b35742c"
      },
      "execution_count": null,
      "outputs": [
        {
          "output_type": "stream",
          "name": "stdout",
          "text": [
            "{'b': 2, 'c': 3}\n"
          ]
        }
      ]
    },
    {
      "cell_type": "code",
      "source": [
        "my_set = {1, 2, 3}\n",
        "my_set.add(4)\n",
        "my_set.remove(1)\n",
        "print(my_set)"
      ],
      "metadata": {
        "colab": {
          "base_uri": "https://localhost:8080/"
        },
        "id": "ksQlmIo0AuMs",
        "outputId": "634f1402-dea6-4773-cd20-1a9f5b677ab0"
      },
      "execution_count": null,
      "outputs": [
        {
          "output_type": "stream",
          "name": "stdout",
          "text": [
            "{2, 3, 4}\n"
          ]
        }
      ]
    },
    {
      "cell_type": "markdown",
      "source": [
        " - Immutable Data Types: Examples: Tuples ((1, 2, 3)), Strings (\"hello\"), Numbers (42)."
      ],
      "metadata": {
        "id": "FkEXW__JA7Of"
      }
    },
    {
      "cell_type": "code",
      "source": [
        "my_tuple = (1, 2, 3)\n",
        "# my_tuple[0] = 10\n",
        "new_tuple = my_tuple + (4,) # Creates a new tuple (1, 2, 3, 4)\n",
        "print(my_tuple, new_tuple)"
      ],
      "metadata": {
        "colab": {
          "base_uri": "https://localhost:8080/"
        },
        "id": "pXPgqSOPBmPL",
        "outputId": "094865c3-2d9c-46ca-b94c-9ff71f136ab1"
      },
      "execution_count": null,
      "outputs": [
        {
          "output_type": "stream",
          "name": "stdout",
          "text": [
            "(1, 2, 3) (1, 2, 3, 4)\n"
          ]
        }
      ]
    },
    {
      "cell_type": "code",
      "source": [
        "my_string = \"hello\"\n",
        "new_string = my_string.upper()  # Creates a new string \"HELLO\"; my_string remains \"hello\"\n",
        "print(my_string, new_string)"
      ],
      "metadata": {
        "colab": {
          "base_uri": "https://localhost:8080/"
        },
        "id": "dyyo8gwfB1Sd",
        "outputId": "fb02c61a-f28c-4315-c547-dd75482f1f86"
      },
      "execution_count": null,
      "outputs": [
        {
          "output_type": "stream",
          "name": "stdout",
          "text": [
            "hello HELLO\n"
          ]
        }
      ]
    },
    {
      "cell_type": "code",
      "source": [
        "x = 5\n",
        "y = x + 1  # Creates a new integer object y with value 6; x remains 5\n",
        "print(x, y)"
      ],
      "metadata": {
        "colab": {
          "base_uri": "https://localhost:8080/"
        },
        "id": "Cp88P-yaB8Kf",
        "outputId": "0add92de-e445-460a-a202-e98c84fc30c3"
      },
      "execution_count": null,
      "outputs": [
        {
          "output_type": "stream",
          "name": "stdout",
          "text": [
            "5 6\n"
          ]
        }
      ]
    },
    {
      "cell_type": "markdown",
      "source": [
        "3. What are the main differences between lists and tuples in Python?"
      ],
      "metadata": {
        "id": "TosyE0M2GPff"
      }
    },
    {
      "cell_type": "markdown",
      "source": [
        "![Capture.PNG](data:image/png;base64,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)"
      ],
      "metadata": {
        "id": "NhuQujL4CHz1"
      }
    },
    {
      "cell_type": "markdown",
      "source": [
        "4. Describe how dictionaries store data.\n",
        "- Dictionaries in Python store data as **key-value pairs.** This means that each piece of data (the \"value\") is associated with a unique identifier (the \"key\"). Think of it like a real-world dictionary where you look up a word (the key) to find its definition (the value).\n"
      ],
      "metadata": {
        "id": "B0JAplIBGsJo"
      }
    },
    {
      "cell_type": "code",
      "source": [
        "student = {\n",
        "    'name': 'Sushmita',\n",
        "    'age': 20,\n",
        "    'major': 'Computer Science'\n",
        "}\n",
        "\n",
        "print(student['name'])\n",
        "print(student['age'])\n",
        "\n",
        "# \"name\" and \"age\" are keys.\n",
        "# \"Alice\" and 30 are corresponding values.\n",
        "# Each key must be unique and immutable (like strings or numbers)."
      ],
      "metadata": {
        "colab": {
          "base_uri": "https://localhost:8080/"
        },
        "id": "dYzehnzWCFoG",
        "outputId": "a9ceed58-233f-4843-925c-28aed683a83b"
      },
      "execution_count": null,
      "outputs": [
        {
          "output_type": "stream",
          "name": "stdout",
          "text": [
            "Sushmita\n",
            "20\n"
          ]
        }
      ]
    },
    {
      "cell_type": "markdown",
      "source": [
        "5. Why might you use a set instead of a list in Python?\n",
        "- Using a set instead of a list in Python is advantageous in certain scenarios due to the unique properties of sets:\n",
        "- 1. **Uniqueness of Elements**\n",
        "Sets automatically eliminate duplicate values, ensuring that all elements are unique. This makes them ideal for situations where you need to store distinct items without manually checking for duplicates.\n",
        "Example:\n"
      ],
      "metadata": {
        "id": "Yydeqw4lIlmN"
      }
    },
    {
      "cell_type": "code",
      "source": [
        "my_list = [1, 2, 2, 3, 3, 3]\n",
        "my_set = {1, 2, 2, 3, 3, 3}\n",
        "print(my_list)\n",
        "print(my_set)"
      ],
      "metadata": {
        "colab": {
          "base_uri": "https://localhost:8080/"
        },
        "id": "yzkIHXjvNkTX",
        "outputId": "a8623441-91e4-4bfb-8173-12fba8590aff"
      },
      "execution_count": null,
      "outputs": [
        {
          "output_type": "stream",
          "name": "stdout",
          "text": [
            "[1, 2, 2, 3, 3, 3]\n",
            "{1, 2, 3}\n"
          ]
        }
      ]
    },
    {
      "cell_type": "markdown",
      "source": [
        "- 2. **Efficient Membership Testing**\n",
        "Sets use hash tables internally, enabling faster membership testing (in operation) compared to lists. The average time complexity for checking if an element exists in a set is\n",
        "O\n",
        "(\n",
        "1\n",
        ")\n",
        "O(1), whereas it is\n",
        "O\n",
        "(\n",
        "n\n",
        ")\n",
        "O(n) for lists."
      ],
      "metadata": {
        "id": "bE5IX7CLNhnf"
      }
    },
    {
      "cell_type": "code",
      "source": [
        "my_list = list(range(1000000))\n",
        "my_set = set(range(1000000))\n",
        "\n",
        "import time\n",
        "\n",
        "start_time = time.time()\n",
        "999999 in my_list\n",
        "end_time = time.time()\n",
        "print(f\"List membership test time: {end_time - start_time:.6f} seconds\")\n",
        "\n",
        "start_time = time.time()\n",
        "999999 in my_set\n",
        "end_time = time.time()\n",
        "print(f\"Set membership test time: {end_time - start_time:.6f} seconds\")\n"
      ],
      "metadata": {
        "colab": {
          "base_uri": "https://localhost:8080/"
        },
        "id": "OUxbnd3MIlMK",
        "outputId": "68ab00c7-d99d-4a09-d38a-b0ebf3b4d8c2"
      },
      "execution_count": null,
      "outputs": [
        {
          "output_type": "stream",
          "name": "stdout",
          "text": [
            "List membership test time: 0.014110 seconds\n",
            "Set membership test time: 0.000115 seconds\n"
          ]
        }
      ]
    },
    {
      "cell_type": "markdown",
      "source": [
        "- 3. **Mathematical Operations**\n",
        "Sets support mathematical operations like union, intersection, and difference, which are useful for comparing and manipulating collections of data. These operations are not directly available with lists."
      ],
      "metadata": {
        "id": "vLgiZLWFOd-5"
      }
    },
    {
      "cell_type": "code",
      "source": [
        "set_a = {1, 2, 3}\n",
        "set_b = {3, 4, 5}\n",
        "print(set_a & set_b)\n"
      ],
      "metadata": {
        "colab": {
          "base_uri": "https://localhost:8080/"
        },
        "id": "7pvfT-ftOnl0",
        "outputId": "ee0e7f02-0e7e-4eb0-e032-f4463f2639fb"
      },
      "execution_count": null,
      "outputs": [
        {
          "output_type": "stream",
          "name": "stdout",
          "text": [
            "{3}\n"
          ]
        }
      ]
    },
    {
      "cell_type": "markdown",
      "source": [
        "6. What is a string in Python, and how is it different from a list?\n",
        "\n"
      ],
      "metadata": {
        "id": "xmBKSTKFPXIJ"
      }
    },
    {
      "cell_type": "markdown",
      "source": [
        "![Capture.PNG](data:image/png;base64,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)"
      ],
      "metadata": {
        "id": "5n_NbztKRzsu"
      }
    },
    {
      "cell_type": "markdown",
      "source": [
        "Example:"
      ],
      "metadata": {
        "id": "cJ_UfYSiSiFB"
      }
    },
    {
      "cell_type": "code",
      "source": [
        "my_string = \"hello\"\n",
        "my_list = ['h', 'e', 'l', 'l', 'o']\n",
        "\n",
        "print(type(my_string))  # Output: <class 'str'>\n",
        "print(type(my_list))    # Output: <class 'list'>\n",
        "\n",
        "# Attempting to modify a string (will raise an error)\n",
        "# my_string[0] = 'H'  # TypeError: 'str' object does not support item assignment\n",
        "\n",
        "# Modifying a list\n",
        "my_list[0] = 'H'\n",
        "print(my_list)\n",
        "\n",
        "new_string = my_string.upper() # Creates a new string\n",
        "print(my_string)\n",
        "print(new_string)"
      ],
      "metadata": {
        "colab": {
          "base_uri": "https://localhost:8080/"
        },
        "id": "iBtotMUxSURg",
        "outputId": "49a1cf9f-f0e2-4f4b-f247-74c96ce573c1"
      },
      "execution_count": null,
      "outputs": [
        {
          "output_type": "stream",
          "name": "stdout",
          "text": [
            "<class 'str'>\n",
            "<class 'list'>\n",
            "['H', 'e', 'l', 'l', 'o']\n",
            "hello\n",
            "HELLO\n"
          ]
        }
      ]
    },
    {
      "cell_type": "markdown",
      "source": [
        "7. How do tuples ensure data integrity in Python?\n",
        "- Tuples in Python ensure data integrity through their immutability, which means that once a tuple is created, its elements cannot be modified, added, or removed. This immutability provides several benefits that contribute to maintaining data consistency and reliability:\n",
        "-1. **Prevention of Accidental Changes**\n",
        "Since tuples are immutable, their contents remain constant throughout the program. This prevents unintended modifications, ensuring the integrity of critical data.\n",
        "- 2. **Suitability for Fixed Data**\n",
        "Tuples are ideal for representing data that should not change, such as configuration settings, database records, or geographic coordinates. This makes them a reliable choice for storing constants or read-only data.\n",
        "-3. **Thread Safety**\n",
        "Immutability ensures that tuples can be safely shared across multiple threads without the risk of race conditions or unexpected side effects.\n",
        "-4. **Use as Dictionary Keys**\n",
        "Because tuples are immutable and hashable (as long as their elements are also hashable), they can be used as keys in dictionaries or elements in sets. This is not possible with mutable types like lists.\n",
        "-5. **Memory Efficiency**\n",
        "Tuples consume less memory compared to lists because they don’t require additional overhead for dynamic resizing or mutability."
      ],
      "metadata": {
        "id": "mI1mxEtES8vf"
      }
    },
    {
      "cell_type": "markdown",
      "source": [
        "8. What is a hash table, and how does it relate to dictionaries in Python.\n",
        "- A hash table is a data structure that stores key-value pairs and uses a hash function to compute an index for each key. This index determines where the corresponding value is stored in an array of buckets or slots. Hash tables are highly efficient for operations like insertion, deletion, and lookup because they allow direct access to elements based on their keys. The average time complexity for these operations is\n",
        "O\n",
        "(\n",
        "1\n",
        ")\n",
        "O(1), making hash tables faster than many other data structures like search trees in most cases\n",
        "\n",
        "- **How Hash Tables Relate to Python Dictionaries**\n",
        "- In Python, dictionaries (dict) are implemented as hash tables. Here’s how they work:\n",
        "1. **Hashing Keys**: When a key-value pair is added to a dictionary, Python computes the hash of the key using a hash function. This hash value determines the index in an internal array where the value will be stored\n",
        "2. **Key-Value Storage**: Each entry in the dictionary contains three components: the hash of the key, the key itself, and its associated value.\n",
        "3. **Collision Handling**: If two keys produce the same hash (a collision), Python uses techniques like open addressing to resolve it, ensuring that every key-value pair can be uniquely identified and retrieved.\n",
        "4. **Resizable Structure**: Python dictionaries are dynamic; they resize automatically when their capacity is exceeded. This resizing ensures efficient performance even as more elements are added\n",
        "\n",
        "\n",
        "\n",
        "\n",
        "\n",
        "\n",
        "\n"
      ],
      "metadata": {
        "id": "Z-BQ26ZkPd_j"
      }
    },
    {
      "cell_type": "code",
      "source": [
        "# Creating a dictionary (hash table)\n",
        "hash_table = {'name': 'Sushmita', 'age': 20}\n",
        "\n",
        "# Accessing a value using a key\n",
        "print(hash_table['name'])\n",
        "\n",
        "# Adding a new key-value pair\n",
        "hash_table['city'] = 'Seattle'\n",
        "\n",
        "# Checking updated dictionary\n",
        "print(hash_table)\n"
      ],
      "metadata": {
        "colab": {
          "base_uri": "https://localhost:8080/"
        },
        "id": "oGUUIjjZQn_O",
        "outputId": "c8a83310-114e-4153-edeb-094b7f198cee"
      },
      "execution_count": null,
      "outputs": [
        {
          "output_type": "stream",
          "name": "stdout",
          "text": [
            "Sushmita\n",
            "{'name': 'Sushmita', 'age': 20, 'city': 'Seattle'}\n"
          ]
        }
      ]
    },
    {
      "cell_type": "markdown",
      "source": [
        "9. Can lists contain different data types in Python?\n",
        "- Yes, lists in Python can contain different data types. Python is a dynamically typed language, which means that you don't need to explicitly declare the data type of a variable when you create it. This flexibility extends to lists, allowing you to store elements of various types within the same list."
      ],
      "metadata": {
        "id": "2VNxxPMwQ2ld"
      }
    },
    {
      "cell_type": "code",
      "source": [
        "my_list = [1, \"hello\", 3.14, True, [1, 2]]\n",
        "print(my_list)"
      ],
      "metadata": {
        "colab": {
          "base_uri": "https://localhost:8080/"
        },
        "id": "8AF-h4BWRnJm",
        "outputId": "50d049b5-ecb2-461f-f852-8d95cbf8d868"
      },
      "execution_count": null,
      "outputs": [
        {
          "output_type": "stream",
          "name": "stdout",
          "text": [
            "[1, 'hello', 3.14, True, [1, 2]]\n"
          ]
        }
      ]
    },
    {
      "cell_type": "markdown",
      "source": [
        "10. Explain why strings are immutable in Python?\n",
        "- Strings in Python are immutable, meaning their content cannot be changed after they are created. This immutability is intentional and provides several benefits:\n",
        "- **Reasons for String Immutability**\n",
        "1. **Hashing and Dictionary Keys:** - Strings are often used as keys in dictionaries or elements in sets. Immutability ensures that their hash value remains constant, which is essential for maintaining the integrity of hash-based data structures like dictionaries\n",
        "2. **Performance Optimization:** - Immutable objects, such as strings, can be optimized for memory usage through techniques like string interning. This allows Python to reuse memory for identical strings, reducing overhead.\n",
        "3. **Thread Safety**: - Since immutable objects cannot be modified, they are inherently thread-safe. This eliminates the risk of data corruption when strings are accessed concurrently in multi-threaded programs\n",
        "4. **Ease of Use and Debugging:** - Immutability reduces the chances of accidental modifications, making code easier to debug and maintain. For example, when passing strings to functions, you can be confident that the original string will not be altered\n",
        "5. **Method Chaining**: - String methods return new objects rather than modifying the original string. This enables safe and intuitive method chaining, e.g., \"hello\".upper().replace(\"H\", \"J\").\n",
        "\n",
        "- **How Immutability Works**\n",
        "- Any operation that appears to \"modify\" a string (e.g., concatenation or slicing) actually creates a new string object."
      ],
      "metadata": {
        "id": "FNpqUlELRqg3"
      }
    },
    {
      "cell_type": "code",
      "source": [
        "my_string = \"hello\"\n",
        "new_string = my_string + \" world\"\n",
        "print(my_string)\n",
        "print(new_string)\n"
      ],
      "metadata": {
        "colab": {
          "base_uri": "https://localhost:8080/"
        },
        "id": "b220IJq1TQaH",
        "outputId": "692e0ac5-8ccd-43d3-f858-93efbeee6344"
      },
      "execution_count": null,
      "outputs": [
        {
          "output_type": "stream",
          "name": "stdout",
          "text": [
            "hello\n",
            "hello world\n"
          ]
        }
      ]
    },
    {
      "cell_type": "markdown",
      "source": [
        "11. What advantages do dictionaries offer over lists for certain tasks?\n",
        "- Dictionaries offer several advantages over lists for specific tasks:\n",
        "1. **Key-Based Access**: Dictionaries allow accessing elements using unique keys instead of numeric indices."
      ],
      "metadata": {
        "id": "SDbauZWbThiO"
      }
    },
    {
      "cell_type": "code",
      "source": [
        "student_scores = {\"Sushmita\": 85, \"Rahul\": 90}\n",
        "print(student_scores[\"Sushmita\"])"
      ],
      "metadata": {
        "colab": {
          "base_uri": "https://localhost:8080/"
        },
        "id": "wkW6as8yUL2W",
        "outputId": "82ed9b37-89d6-4be7-8360-499db234ae69"
      },
      "execution_count": null,
      "outputs": [
        {
          "output_type": "stream",
          "name": "stdout",
          "text": [
            "85\n"
          ]
        }
      ]
    },
    {
      "cell_type": "markdown",
      "source": [
        "2. **Faster Lookups:**- Dictionaries offer an average time complexity of\n",
        "O\n",
        "(\n",
        "1\n",
        ")\n",
        "O(1) for lookups, compared to\n",
        "O\n",
        "(\n",
        "n\n",
        ")\n",
        "O(n) for lists when searching for an element. This makes dictionaries ideal for tasks requiring frequent lookups or updates.\n",
        "3. **Unordered Data Storage:** - Unlike lists, dictionaries do not require maintaining a specific order, making them better suited for storing and retrieving data without positional constraints.\n",
        "4. **No Duplicate Keys**: - Dictionaries enforce unique keys, ensuring that each key maps to a single value. This is useful for tasks like counting occurrences or mapping unique identifiers to values.\n",
        "5. **Dynamic and Flexible**: -Dictionaries can store heterogeneous data types as values and support dynamic addition or removal of key-value pairs without affecting their structure."
      ],
      "metadata": {
        "id": "nPSFq7b7UeNG"
      }
    },
    {
      "cell_type": "markdown",
      "source": [
        "12. Describe a scenario where using a tuple would be preferable over a list?\n",
        "- Tuples are preferable over lists in scenarios where immutability, performance, or memory efficiency is required. Here are specific examples:\n",
        "1. **Storing Fixed Data**: - Tuples are ideal for representing data that should not change, such as coordinates, configurations, or constants."
      ],
      "metadata": {
        "id": "gKOrz8POVFBR"
      }
    },
    {
      "cell_type": "code",
      "source": [
        "coordinates = (10.5, 20.3)  # Fixed geographical location\n"
      ],
      "metadata": {
        "id": "WXdOo30tV2p1"
      },
      "execution_count": null,
      "outputs": []
    },
    {
      "cell_type": "markdown",
      "source": [
        "2. **Using as Keys in Dictionaries**: -  Tuples can be used as keys in dictionaries because they are immutable, while lists cannot."
      ],
      "metadata": {
        "id": "ZcYetQj1WAHY"
      }
    },
    {
      "cell_type": "code",
      "source": [
        "data = {(2025, \"April\", 6): \"Event Date\"}\n"
      ],
      "metadata": {
        "id": "FstLZESjWSmd"
      },
      "execution_count": null,
      "outputs": []
    },
    {
      "cell_type": "markdown",
      "source": [
        "3. **Function Return Values**: - Tuples are commonly used to return multiple values from a function because they clearly represent fixed collections of related data."
      ],
      "metadata": {
        "id": "rTx1ikepWbLo"
      }
    },
    {
      "cell_type": "code",
      "source": [
        "def get_user_info():\n",
        "    return (\"Sushmita\", 32)  # Name and age\n"
      ],
      "metadata": {
        "id": "zmFTQe5zWimA"
      },
      "execution_count": null,
      "outputs": []
    },
    {
      "cell_type": "markdown",
      "source": [
        "4. **Memory Efficiency:** - Tuples consume less memory compared to lists due to their immutability and fixed size.\n",
        "- This is beneficial when working with large datasets that do not require modification.\n",
        "\n",
        "5. **Performance Optimization**: - Tuples are faster than lists for iteration and access operations because they are immutable and have fewer overheads.\n",
        "- Example: Use tuples for read-only data in performance-critical applications.\n",
        "\n",
        "6. **Ensuring Data Integrity**:-Tuples prevent accidental modification of data, making them safer for storing sensitive or critical information. Example: Storing API keys or configuration settings.\n",
        "\n"
      ],
      "metadata": {
        "id": "dA0VHdesXD1w"
      }
    },
    {
      "cell_type": "markdown",
      "source": [
        "\n",
        "13. How do sets handle duplicate values in Python?\n",
        "- Sets in Python are designed to store only unique elements. When you try to add a duplicate value to a set, it is automatically ignored, and the set remains unchanged. Sets internally use hashing (similar to dictionaries) to efficiently check for the existence of elements. This allows them to quickly determine if a value is already present before attempting to add it."
      ],
      "metadata": {
        "id": "iw7l3XWBYi9G"
      }
    },
    {
      "cell_type": "code",
      "source": [
        "my_set = {1, 2, 2, 3, 3, 3}\n",
        "print(my_set)  # Output: {1, 2, 3}\n",
        "\n",
        "my_set.add(2)\n",
        "print(my_set)"
      ],
      "metadata": {
        "colab": {
          "base_uri": "https://localhost:8080/"
        },
        "id": "1CvaYGzHZsJ3",
        "outputId": "1047918e-d605-489e-ec53-327cf7297d5a"
      },
      "execution_count": null,
      "outputs": [
        {
          "output_type": "stream",
          "name": "stdout",
          "text": [
            "{1, 2, 3}\n",
            "{1, 2, 3}\n"
          ]
        }
      ]
    },
    {
      "cell_type": "markdown",
      "source": [
        "14. How does the “in” keyword work differently for lists and dictionaries in Python?\n",
        "- The in keyword is used to check if an element is present within a sequence or collection. However, its behavior and efficiency differ between lists and dictionaries:\n",
        "1. **List:** - When you use in with a list, Python iterates through the elements of the list one by one until it finds a match or reaches the end of the list. Therefore, the time complexity of element in my_list is O(n) in the worst case, where 'n' is the number of elements in the list."
      ],
      "metadata": {
        "id": "gj_vSU3dZxX_"
      }
    },
    {
      "cell_type": "code",
      "source": [
        "my_list = [10, 20, 30, 40, 50]\n",
        "print(30 in my_list)\n",
        "print(60 in my_list)"
      ],
      "metadata": {
        "colab": {
          "base_uri": "https://localhost:8080/"
        },
        "id": "4qBfihAlbi6F",
        "outputId": "1b44ea02-b845-41d1-bb54-17023caf3f0d"
      },
      "execution_count": null,
      "outputs": [
        {
          "output_type": "stream",
          "name": "stdout",
          "text": [
            "True\n",
            "False\n"
          ]
        }
      ]
    },
    {
      "cell_type": "markdown",
      "source": [
        "2. **Dictionaries**:- When you use in with a dictionary, it checks if the specified value exists as a key in the dictionary. Dictionaries use hashing for key lookups, which allows for very fast average-case performance. The time complexity of key in my_dict is O(1) on average. Python doesn't need to iterate through all the key-value pairs; it directly checks the hash table for the presence of the key."
      ],
      "metadata": {
        "id": "f6wPZtJ-bmpj"
      }
    },
    {
      "cell_type": "code",
      "source": [
        "my_dict = {\"a\": 1, \"b\": 2, \"c\": 3}\n",
        "print(\"b\" in my_dict)\n",
        "print(\"d\" in my_dict)\n",
        "print(1 in my_dict)"
      ],
      "metadata": {
        "colab": {
          "base_uri": "https://localhost:8080/"
        },
        "id": "_kS-A27FbvzX",
        "outputId": "0b0ad3a8-6a55-4874-e3ab-4dfc5ceaa4cc"
      },
      "execution_count": null,
      "outputs": [
        {
          "output_type": "stream",
          "name": "stdout",
          "text": [
            "True\n",
            "False\n",
            "False\n"
          ]
        }
      ]
    },
    {
      "cell_type": "markdown",
      "source": [
        "15. Can you modify the elements of a tuple? Explain why or why not.\n",
        "- No, you cannot directly modify the elements of a tuple in Python. Tuples are immutable data structures.\n",
        "\n",
        "- **The reason for this immutability lies in their design and the benefits it provides:**\n",
        "\n",
        "- 1. Data Integrity: Immutability ensures that once a tuple is created, its contents remain constant throughout the program's execution. This can be crucial for representing fixed collections of data where changes should not occur.\n",
        "- 2. Use as Dictionary Keys: As mentioned before, dictionary keys must be hashable. Mutable objects like lists cannot be used as dictionary keys because their hash values could change if their contents are modified. Tuples, being immutable (and containing only immutable elements), are hashable and can therefore be used as dictionary keys.\n",
        "- 3. Memory Efficiency (potentially): In some cases, Python might be able to perform certain optimizations with immutable objects like tuples, potentially leading to slightly better memory usage or performance compared to mutable objects.\n",
        "\n",
        "- **What happens when you try to modify a tuple?**\n",
        "- Attempting to modify an element of a tuple will result in a **TypeError**."
      ],
      "metadata": {
        "id": "w50dIXcCb5Nn"
      }
    },
    {
      "cell_type": "code",
      "source": [
        "my_tuple = (1, 2, 3)\n",
        "# my_tuple[0] = 10  # This will raise a TypeError: 'tuple' object does not support item assignment"
      ],
      "metadata": {
        "id": "LTGH0AWdc7cP"
      },
      "execution_count": null,
      "outputs": []
    },
    {
      "cell_type": "markdown",
      "source": [
        "16. What is a nested dictionary, and give an example of its use case?\n",
        "- A nested dictionary is a dictionary where the values associated with some or all of the keys are themselves dictionaries. This allows you to represent more complex and hierarchical data structures.\n",
        "\n",
        "- **Example Use Case: Representing Student Information**\n",
        "- Imagine you want to store information about students, including their names, ages, and their scores in different subjects. A nested dictionary would be a suitable way to organize this data:\n",
        "\n",
        "\n"
      ],
      "metadata": {
        "id": "z4hoB3nndOT_"
      }
    },
    {
      "cell_type": "code",
      "source": [
        "student_data = {\n",
        "    \"Alice\": {\n",
        "        \"age\": 20,\n",
        "        \"major\": \"Computer Science\",\n",
        "        \"scores\": {\n",
        "            \"Math\": 95,\n",
        "            \"Physics\": 88,\n",
        "            \"Chemistry\": 92\n",
        "        }\n",
        "    },\n",
        "    \"Bob\": {\n",
        "        \"age\": 21,\n",
        "        \"major\": \"Engineering\",\n",
        "        \"scores\": {\n",
        "            \"Math\": 85,\n",
        "            \"Physics\": 90,\n",
        "            \"Electronics\": 78\n",
        "        }\n",
        "    },\n",
        "    \"Charlie\": {\n",
        "        \"age\": 19,\n",
        "        \"major\": \"Literature\",\n",
        "        \"scores\": {\n",
        "            \"English\": 98,\n",
        "            \"History\": 91,\n",
        "            \"Philosophy\": 86\n",
        "        }\n",
        "    }\n",
        "}\n",
        "\n",
        "# Accessing Alice's Physics score:\n",
        "alice_physics_score = student_data[\"Alice\"][\"scores\"][\"Physics\"]\n",
        "print(f\"Alice's Physics score: {alice_physics_score}\")  # Output: Alice's Physics score: 88\n",
        "\n",
        "# Iterating through the students and their majors:\n",
        "for name, info in student_data.items():\n",
        "    print(f\"{name} is majoring in {info['major']}\")"
      ],
      "metadata": {
        "colab": {
          "base_uri": "https://localhost:8080/"
        },
        "id": "CEhvSKvSf4OW",
        "outputId": "5630bf6f-815c-449c-c3fb-e37a626f5498"
      },
      "execution_count": null,
      "outputs": [
        {
          "output_type": "stream",
          "name": "stdout",
          "text": [
            "Alice's Physics score: 88\n",
            "Alice is majoring in Computer Science\n",
            "Bob is majoring in Engineering\n",
            "Charlie is majoring in Literature\n"
          ]
        }
      ]
    },
    {
      "cell_type": "markdown",
      "source": [
        "17. Describe the time complexity of accessing elements in a dictionary.\n",
        "- The time complexity for accessing elements in a Python dictionary depends on whether the operation is average-case or worst-case:\n",
        "- 1. **Average Case**: -\n",
        "O\n",
        "(\n",
        "1\n",
        ")\n",
        "O(1)\n",
        "- Explanation: Dictionaries in Python are implemented as hash tables. When you access an element using its key, Python computes the hash value of the key and uses it to locate the value in constant time.\n",
        "\n",
        "- Efficiency: This makes dictionary lookups very fast and independent of the size of the dictionary."
      ],
      "metadata": {
        "id": "0g7sKE6rgGKr"
      }
    },
    {
      "cell_type": "code",
      "source": [
        "# Example\n",
        "my_dict = {'a': 1, 'b': 2, 'c': 3}\n",
        "print(my_dict['b'])\n"
      ],
      "metadata": {
        "colab": {
          "base_uri": "https://localhost:8080/"
        },
        "id": "1gdq2qpnhVi7",
        "outputId": "13ef5b8f-970b-441f-ee5a-c19f3f40c340"
      },
      "execution_count": null,
      "outputs": [
        {
          "output_type": "stream",
          "name": "stdout",
          "text": [
            "2\n"
          ]
        }
      ]
    },
    {
      "cell_type": "markdown",
      "source": [
        "2. **Worst Case**:-\n",
        "O\n",
        "(\n",
        "n\n",
        ")\n",
        "O(n)\n",
        "- Explanation: In rare scenarios, hash collisions can occur when multiple keys produce the same hash value. Python handles collisions by storing colliding entries in a linked list or similar structure. In the worst case, accessing an element may require traversing this list, resulting in linear time complexity (\n",
        "O\n",
        "(\n",
        "n\n",
        ")\n",
        "O(n)).\n",
        "\n",
        "- **When It Happens**:-\n",
        " - Poorly distributed hash functions.\n",
        " - Large dictionaries with many collisions."
      ],
      "metadata": {
        "id": "9Fuka2JLhebc"
      }
    },
    {
      "cell_type": "code",
      "source": [
        "# Simulating worst-case scenario (not common)\n",
        "my_dict = {key: value for key, value in zip(range(1000), range(1000))}\n"
      ],
      "metadata": {
        "id": "vNvXDGghiRe9"
      },
      "execution_count": null,
      "outputs": []
    },
    {
      "cell_type": "markdown",
      "source": [
        "18. In what situations are lists preferred over dictionaries?\n",
        "- Lists are preferred over dictionaries in the following situations:\n",
        "\n",
        " - **Ordered Collections**: - When the order of elements matters and needs to be preserved. Lists maintain the insertion order of elements.\n",
        "Access by Numerical Index: When you need to access elements primarily by their position (index) in the sequence (e.g., the first item, the last item, the item at index 5).\n",
        " - **Simple Sequences without Unique Identifiers**: When you have a collection of items where there isn't a natural or necessary unique key to identify each element. For example, a list of names, a list of temperatures recorded over time, or a list of items in a shopping cart where the order is important.\n",
        " - **Duplicates are Allowed and Significant**: If you need to store multiple occurrences of the same value, lists are the appropriate choice, as sets automatically remove duplicates, and dictionaries require unique keys.\n",
        " - **Iterating Through Elements in Order**: If you frequently need to iterate through the elements of a collection in the order they were added.\n",
        " - **When the size of the collection is small and performance is not a critical factor for lookups**: For very small collections, the linear search of a list might not be significantly slower than the hash computation and lookup in a dictionary.\n",
        " - Building a sequence incrementally where the order of addition is important."
      ],
      "metadata": {
        "id": "4m1_yWbHiebU"
      }
    },
    {
      "cell_type": "markdown",
      "source": [
        "19. Why are dictionaries considered unordered, and how does that affect data retrieval?\n",
        "- Dictionaries in Python are considered unordered primarily because their structure is designed for efficient key-based access rather than maintaining a specific sequence of elements. Here’s an explanation of why this is the case and how it affects data retrieval:\n",
        "- **Why Dictionaries Are Considered Unordered**\n",
        " 1. H**ash Table Implementation**: Dictionaries are implemented as hash tables, which prioritize fast lookups, insertions, and deletions over maintaining order. Keys are hashed to determine where their corresponding values are stored, and this storage does not follow any predictable sequence.\n",
        "  2. **Pre-Python 3.7 Behavior**: Before Python 3.7, dictionaries did not preserve the order of insertion at all. The order of items could change depending on operations performed on the dictionary, as the internal arrangement was optimized for performance rather than order.\n",
        "  3. **Post-Python 3.7 Behavior**: Starting with Python 3.7, dictionaries began to guarantee insertion order as an implementation detail. However, they are still referred to as unordered because their primary purpose remains fast key-value mapping rather than functioning as a sequential collection like lists or tuples.\n",
        "  4. **No Index-Based Access**: Unlike sequences such as lists or tuples, dictionaries cannot be accessed by index. Retrieval is based solely on keys, making their internal arrangement irrelevant to the user\n",
        "\n",
        "- **Impact on Data Retrieval**\n",
        " - **Key-Based Access**: Data retrieval in dictionaries is done using keys, which provides\n",
        "O\n",
        "(\n",
        "1\n",
        ")\n",
        "O(1) time complexity for lookups. This efficiency makes dictionaries ideal for scenarios where quick access to data is required\n",
        " - **Order Irrelevance**: Since dictionaries do not rely on sequence or index-based access, the order of elements does not affect retrieval speed or functionality. For example:"
      ],
      "metadata": {
        "id": "emRkGuOCjtF5"
      }
    },
    {
      "cell_type": "code",
      "source": [
        "my_dict = {'a': 1, 'b': 2, 'c': 3}\n",
        "print(my_dict['b'])"
      ],
      "metadata": {
        "colab": {
          "base_uri": "https://localhost:8080/"
        },
        "id": "D7vTPF8Ts0wB",
        "outputId": "f9331ea3-7680-4d2d-96e0-50f1a54f0819"
      },
      "execution_count": 1,
      "outputs": [
        {
          "output_type": "stream",
          "name": "stdout",
          "text": [
            "2\n"
          ]
        }
      ]
    },
    {
      "cell_type": "markdown",
      "source": [
        "  - **Performance Implications**: While insertion order is preserved in modern Python versions, unordered access patterns (e.g., random lookups) can lead to inefficiencies due to CPU cache misses or memory thrashing when iterating over shuffled lists of keys or values\n",
        "  - **Sorting Requirements**: If ordered processing is needed (e.g., sorting by keys or values), additional steps must be taken using functions like sorted():"
      ],
      "metadata": {
        "id": "BfcDNnn1s9hZ"
      }
    },
    {
      "cell_type": "code",
      "source": [
        "sorted_dict = dict(sorted(my_dict.items()))\n"
      ],
      "metadata": {
        "id": "2aal4GirtYbI"
      },
      "execution_count": 2,
      "outputs": []
    },
    {
      "cell_type": "markdown",
      "source": [
        "20. Explain the difference between a list and a dictionary in terms of data retrieval.\n",
        "- The primary difference between a list and a dictionary in terms of data retrieval lies in how elements are accessed and the efficiency of these operations. Here's a detailed comparison:\n",
        " -  **Key Differences in Data Retrieval![Screenshot 2025-04-07 153752.png](data:image/png;base64,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)**\n"
      ],
      "metadata": {
        "id": "IYQ7nMPDtfef"
      }
    },
    {
      "cell_type": "code",
      "source": [
        "# Examples List Retrieval\n",
        "my_list = [10, 20, 30]\n",
        "print(my_list[1])\n",
        "# Access is based on the position of the element."
      ],
      "metadata": {
        "colab": {
          "base_uri": "https://localhost:8080/"
        },
        "id": "om5qY1rGunMp",
        "outputId": "fb7fe795-f09e-4b85-fc02-37308b2720da"
      },
      "execution_count": 3,
      "outputs": [
        {
          "output_type": "stream",
          "name": "stdout",
          "text": [
            "20\n"
          ]
        }
      ]
    },
    {
      "cell_type": "code",
      "source": [
        "# Examples Dictionary Retrieval\n",
        "my_dict = {'a': 10, 'b': 20, 'c': 30}\n",
        "print(my_dict['b'])  # Output: 20\n",
        "# Access is based on the key, which allows for faster lookups."
      ],
      "metadata": {
        "colab": {
          "base_uri": "https://localhost:8080/"
        },
        "id": "Mg_eIrGfuuwP",
        "outputId": "9552d944-f278-4f6a-fc1a-e564025d9dd6"
      },
      "execution_count": 4,
      "outputs": [
        {
          "output_type": "stream",
          "name": "stdout",
          "text": [
            "20\n"
          ]
        }
      ]
    },
    {
      "cell_type": "markdown",
      "source": [
        " - **Impact on Performance**\n",
        "  - Lists are slower when searching for a specific value because they require scanning through elements sequentially.\n",
        "  - Dictionaries excel in scenarios where quick access to data via keys is required, making them more efficient for large datasets.\n",
        "\n",
        "- **Conclusion**\n",
        " - Use lists when you need an ordered collection with index-based access.\n",
        " - Use dictionaries when you need fast lookups or to associate data with unique keys.\n",
        "\n"
      ],
      "metadata": {
        "id": "QykWVb0AvCSZ"
      }
    },
    {
      "cell_type": "markdown",
      "source": [
        "# Practical Questions"
      ],
      "metadata": {
        "id": "ObJ0lEyovq5I"
      }
    },
    {
      "cell_type": "markdown",
      "source": [
        "1. Write a code to create a string with your name and print it."
      ],
      "metadata": {
        "id": "4gy2-fxLvxfP"
      }
    },
    {
      "cell_type": "code",
      "source": [
        "# Assign your name to a string variable\n",
        "my_name = \"Sushmita Yadav\"\n",
        "\n",
        "# Print the variable\n",
        "print(my_name)"
      ],
      "metadata": {
        "colab": {
          "base_uri": "https://localhost:8080/"
        },
        "id": "hET2XvNuwL-v",
        "outputId": "b5a497b5-9517-4fc5-e0ad-f9ad2c298351"
      },
      "execution_count": 5,
      "outputs": [
        {
          "output_type": "stream",
          "name": "stdout",
          "text": [
            "Sushmita Yadav\n"
          ]
        }
      ]
    },
    {
      "cell_type": "markdown",
      "source": [
        "2. Write a code to find the length of the string \"Hello World\"\n"
      ],
      "metadata": {
        "id": "lbB4TDa3wYlG"
      }
    },
    {
      "cell_type": "code",
      "source": [
        "# Define the string\n",
        "string = \"Hello World\"\n",
        "\n",
        "# Calculate and print the length of the string\n",
        "length = len(string)\n",
        "print(f\"The length of '{string}' is {length}.\")\n"
      ],
      "metadata": {
        "colab": {
          "base_uri": "https://localhost:8080/"
        },
        "id": "JKVAN-1Xwdff",
        "outputId": "77d8beeb-e0ed-4398-9056-27e0afd89fc1"
      },
      "execution_count": 6,
      "outputs": [
        {
          "output_type": "stream",
          "name": "stdout",
          "text": [
            "The length of 'Hello World' is 11.\n"
          ]
        }
      ]
    },
    {
      "cell_type": "markdown",
      "source": [
        "3. Write a code to slice the first 3 characters from the string \"Python Programming\"\n"
      ],
      "metadata": {
        "id": "CdH6uPjTwt2X"
      }
    },
    {
      "cell_type": "code",
      "source": [
        "# Define the string\n",
        "string = \"Python Programming\"\n",
        "\n",
        "# Slice the first 3 characters and print them\n",
        "first_three_chars = string[:3]\n",
        "print(f\"The first three characters are: {first_three_chars}\")\n"
      ],
      "metadata": {
        "colab": {
          "base_uri": "https://localhost:8080/"
        },
        "id": "LHWVQDmEwynW",
        "outputId": "e1396e03-8410-42c7-b2c8-729dced890d7"
      },
      "execution_count": 7,
      "outputs": [
        {
          "output_type": "stream",
          "name": "stdout",
          "text": [
            "The first three characters are: Pyt\n"
          ]
        }
      ]
    },
    {
      "cell_type": "markdown",
      "source": [
        "4. Write a code to convert the string \"hello\" to uppercase\n"
      ],
      "metadata": {
        "id": "5I82reNlw7Nf"
      }
    },
    {
      "cell_type": "code",
      "source": [
        "# Define the string\n",
        "string = \"hello\"\n",
        "\n",
        "# Convert to uppercase and print\n",
        "uppercase_string = string.upper()\n",
        "print(f\"The uppercase version of '{string}' is: {uppercase_string}\")\n"
      ],
      "metadata": {
        "colab": {
          "base_uri": "https://localhost:8080/"
        },
        "id": "TVs06XzWw_Pv",
        "outputId": "72bf77cd-c16b-4a8f-9575-385b581b6fa9"
      },
      "execution_count": 8,
      "outputs": [
        {
          "output_type": "stream",
          "name": "stdout",
          "text": [
            "The uppercase version of 'hello' is: HELLO\n"
          ]
        }
      ]
    },
    {
      "cell_type": "markdown",
      "source": [
        "5. Write a code to replace the word \"apple\" with \"orange\" in the string \"I like apple\"\n"
      ],
      "metadata": {
        "id": "CXXmn3gUxPBm"
      }
    },
    {
      "cell_type": "code",
      "source": [
        "# Define the string\n",
        "string = \"I like apple\"\n",
        "\n",
        "# Replace \"apple\" with \"orange\" and print the result\n",
        "modified_string = string.replace(\"apple\", \"orange\")\n",
        "print(f\"After replacing 'apple' with 'orange': {modified_string}\")\n"
      ],
      "metadata": {
        "colab": {
          "base_uri": "https://localhost:8080/"
        },
        "id": "VuthFzQdxSWm",
        "outputId": "dd54265d-942e-40d3-b057-d469301d8574"
      },
      "execution_count": 9,
      "outputs": [
        {
          "output_type": "stream",
          "name": "stdout",
          "text": [
            "After replacing 'apple' with 'orange': I like orange\n"
          ]
        }
      ]
    },
    {
      "cell_type": "markdown",
      "source": [
        "6. Write a code to create a list with numbers 1 to 5 and print it."
      ],
      "metadata": {
        "id": "1Y4ziaaYx3du"
      }
    },
    {
      "cell_type": "code",
      "source": [
        "# Create a list with numbers 1 to 5\n",
        "numbers = list(range(1, 6))  # range(1, 6) generates numbers from 1 to 5\n",
        "\n",
        "# Print the list\n",
        "print(numbers)\n"
      ],
      "metadata": {
        "colab": {
          "base_uri": "https://localhost:8080/"
        },
        "id": "-_FbkANUx4Vf",
        "outputId": "90073862-7be2-40ca-e9b6-152c65ba50fa"
      },
      "execution_count": 10,
      "outputs": [
        {
          "output_type": "stream",
          "name": "stdout",
          "text": [
            "[1, 2, 3, 4, 5]\n"
          ]
        }
      ]
    },
    {
      "cell_type": "markdown",
      "source": [
        "7. Write a code to append the number 10 to the list [1, 2, 3, 4]"
      ],
      "metadata": {
        "id": "NCsXtUksyUhe"
      }
    },
    {
      "cell_type": "code",
      "source": [
        "# The initial list\n",
        "my_list = [1, 2, 3, 4]\n",
        "\n",
        "my_list.append(10)\n",
        "\n",
        "# Print the modified list\n",
        "print(my_list)\n"
      ],
      "metadata": {
        "colab": {
          "base_uri": "https://localhost:8080/"
        },
        "id": "SWKaJPn7yWCX",
        "outputId": "425fdc2b-7c36-4eef-a64e-6e0f81ba6bed"
      },
      "execution_count": 11,
      "outputs": [
        {
          "output_type": "stream",
          "name": "stdout",
          "text": [
            "[1, 2, 3, 4, 10]\n"
          ]
        }
      ]
    },
    {
      "cell_type": "markdown",
      "source": [
        "8. Write a code to remove the number 3 from the list [1, 2, 3, 4, 5]"
      ],
      "metadata": {
        "id": "-0Fxb1Tryj8H"
      }
    },
    {
      "cell_type": "code",
      "source": [
        "# Define the list\n",
        "numbers = [1, 2, 3, 4, 5]\n",
        "\n",
        "# Remove the number 3 from the list\n",
        "numbers.remove(3)\n",
        "\n",
        "# Print the updated list\n",
        "print(numbers)\n"
      ],
      "metadata": {
        "colab": {
          "base_uri": "https://localhost:8080/"
        },
        "id": "-BCXbW3KylD-",
        "outputId": "087c786a-e439-4490-f430-4da0a3dfb21a"
      },
      "execution_count": 12,
      "outputs": [
        {
          "output_type": "stream",
          "name": "stdout",
          "text": [
            "[1, 2, 4, 5]\n"
          ]
        }
      ]
    },
    {
      "cell_type": "markdown",
      "source": [
        "9. Write a code to access the second element in the list ['a', 'b', 'c', 'd']\n",
        "\n"
      ],
      "metadata": {
        "id": "TODRb9ZXyuCW"
      }
    },
    {
      "cell_type": "code",
      "source": [
        "# Define the list\n",
        "letters = ['a', 'b', 'c', 'd']\n",
        "\n",
        "# Access the second element (index 1)\n",
        "second_element = letters[1]\n",
        "\n",
        "# Print the second element\n",
        "print(second_element)\n"
      ],
      "metadata": {
        "colab": {
          "base_uri": "https://localhost:8080/"
        },
        "id": "DXvRJ5bbywYf",
        "outputId": "2553bb53-b1f7-4b95-b3bc-e9cd1635a7ab"
      },
      "execution_count": 13,
      "outputs": [
        {
          "output_type": "stream",
          "name": "stdout",
          "text": [
            "b\n"
          ]
        }
      ]
    },
    {
      "cell_type": "markdown",
      "source": [
        "10. 10. Write a code to reverse the list [10, 20, 30, 40, 50]."
      ],
      "metadata": {
        "id": "eAfkeQLiy35e"
      }
    },
    {
      "cell_type": "code",
      "source": [
        "# Define the list\n",
        "numbers = [10, 20, 30, 40, 50]\n",
        "\n",
        "# Reverse the list\n",
        "numbers.reverse()\n",
        "\n",
        "# Alternatively, you can use slicing to reverse the list\n",
        "# reversed_numbers = numbers[::-1]\n",
        "\n",
        "# Print the reversed list\n",
        "print(numbers)\n"
      ],
      "metadata": {
        "colab": {
          "base_uri": "https://localhost:8080/"
        },
        "id": "P0fk-VIqy8wu",
        "outputId": "e224447c-2323-4221-a8f6-2d7ec544a1ea"
      },
      "execution_count": 14,
      "outputs": [
        {
          "output_type": "stream",
          "name": "stdout",
          "text": [
            "[50, 40, 30, 20, 10]\n"
          ]
        }
      ]
    },
    {
      "cell_type": "markdown",
      "source": [
        "11. Write a code to create a tuple with the elements 100, 200, 300 and print it."
      ],
      "metadata": {
        "id": "zQm5f3n2zgLO"
      }
    },
    {
      "cell_type": "code",
      "source": [
        "# Create a tuple using parentheses with comma-separated elements\n",
        "my_tuple = (100, 200, 300)\n",
        "\n",
        "# Print the created tuple\n",
        "print(my_tuple)"
      ],
      "metadata": {
        "colab": {
          "base_uri": "https://localhost:8080/"
        },
        "id": "JjA5lBh-zyYO",
        "outputId": "0f691da3-57b3-4660-a95b-f29e38aca94d"
      },
      "execution_count": 15,
      "outputs": [
        {
          "output_type": "stream",
          "name": "stdout",
          "text": [
            "(100, 200, 300)\n"
          ]
        }
      ]
    },
    {
      "cell_type": "markdown",
      "source": [
        "12. Write a code to access the second-to-last element of the tuple ('red', 'green', 'blue', 'yellow')."
      ],
      "metadata": {
        "id": "95RAbjUg0CbG"
      }
    },
    {
      "cell_type": "code",
      "source": [
        "# Define the tuple\n",
        "colors = ('red', 'green', 'blue', 'yellow')\n",
        "\n",
        "# Access the second-to-last element\n",
        "second_to_last = colors[-2]\n",
        "\n",
        "# Print the second-to-last element\n",
        "print(second_to_last)\n"
      ],
      "metadata": {
        "colab": {
          "base_uri": "https://localhost:8080/"
        },
        "id": "CiAvvjxS0h19",
        "outputId": "d0b9b149-718d-4b2c-b710-e0466d0004d4"
      },
      "execution_count": 16,
      "outputs": [
        {
          "output_type": "stream",
          "name": "stdout",
          "text": [
            "blue\n"
          ]
        }
      ]
    },
    {
      "cell_type": "markdown",
      "source": [
        "13. Write a code to find the minimum number in the tuple (10, 20, 5, 15).\n"
      ],
      "metadata": {
        "id": "iHeWD69D0v9m"
      }
    },
    {
      "cell_type": "code",
      "source": [
        "# Define the tuple\n",
        "numbers = (10, 20, 5, 15)\n",
        "\n",
        "# Find the minimum number in the tuple\n",
        "min_number = min(numbers)\n",
        "\n",
        "# Print the minimum number\n",
        "print(min_number)\n"
      ],
      "metadata": {
        "colab": {
          "base_uri": "https://localhost:8080/"
        },
        "id": "Lr4nNk2d04wF",
        "outputId": "fabff890-4e24-4bb4-d364-d42a2fd59ca6"
      },
      "execution_count": 17,
      "outputs": [
        {
          "output_type": "stream",
          "name": "stdout",
          "text": [
            "5\n"
          ]
        }
      ]
    },
    {
      "cell_type": "markdown",
      "source": [
        "14. Write a code to find the index of the element \"cat\" in the tuple ('dog', 'cat', 'rabbit')."
      ],
      "metadata": {
        "id": "ESG7lhG609qN"
      }
    },
    {
      "cell_type": "code",
      "source": [
        "# Define the tuple\n",
        "animals = ('dog', 'cat', 'rabbit')\n",
        "\n",
        "# Find the index of the element \"cat\"\n",
        "index_of_cat = animals.index('cat')\n",
        "\n",
        "# Print the index of \"cat\"\n",
        "print(index_of_cat)\n"
      ],
      "metadata": {
        "colab": {
          "base_uri": "https://localhost:8080/"
        },
        "id": "7__AjfrW1xnl",
        "outputId": "ff1ca1dd-11c2-41b1-ec76-4aa03483f433"
      },
      "execution_count": 18,
      "outputs": [
        {
          "output_type": "stream",
          "name": "stdout",
          "text": [
            "1\n"
          ]
        }
      ]
    },
    {
      "cell_type": "markdown",
      "source": [
        "15. Write a code to create a tuple containing three different fruits and check if \"kiwi\" is in it."
      ],
      "metadata": {
        "id": "XBVg6Hfo2NkN"
      }
    },
    {
      "cell_type": "code",
      "source": [
        "# Create a tuple containing three different fruits\n",
        "fruits = ('apple', 'banana', 'orange')\n",
        "\n",
        "# Check if \"kiwi\" is in the tuple\n",
        "if 'kiwi' in fruits:\n",
        "    print(\"Kiwi is in the tuple.\")\n",
        "else:\n",
        "    print(\"Kiwi is not in the tuple.\")\n"
      ],
      "metadata": {
        "colab": {
          "base_uri": "https://localhost:8080/"
        },
        "id": "uWn9M8Av2Pil",
        "outputId": "20fbd4ad-754e-4e58-dd87-a85e9bc93cff"
      },
      "execution_count": 19,
      "outputs": [
        {
          "output_type": "stream",
          "name": "stdout",
          "text": [
            "Kiwi is not in the tuple.\n"
          ]
        }
      ]
    },
    {
      "cell_type": "markdown",
      "source": [
        "16. Write a code to create a set with the elements 'a', 'b', 'c' and print it."
      ],
      "metadata": {
        "id": "3cW0lOtl32ut"
      }
    },
    {
      "cell_type": "code",
      "source": [
        "# Create a set with the elements 'a', 'b', 'c'\n",
        "my_set = {'a', 'b', 'c'}\n",
        "\n",
        "# Print the set\n",
        "print(my_set)\n"
      ],
      "metadata": {
        "colab": {
          "base_uri": "https://localhost:8080/"
        },
        "id": "e4d-Y80R3-Q1",
        "outputId": "9b59e4a2-040c-4e98-ed2b-a16cdc3eae5a"
      },
      "execution_count": 20,
      "outputs": [
        {
          "output_type": "stream",
          "name": "stdout",
          "text": [
            "{'b', 'c', 'a'}\n"
          ]
        }
      ]
    },
    {
      "cell_type": "markdown",
      "source": [
        "17. Write a code to clear all elements from the set {1, 2, 3, 4, 5}."
      ],
      "metadata": {
        "id": "ddaG6mAY4Brd"
      }
    },
    {
      "cell_type": "code",
      "source": [
        "# Create a set with the elements {1, 2, 3, 4, 5}\n",
        "my_set = {1, 2, 3, 4, 5}\n",
        "\n",
        "# Print the original set\n",
        "print(\"Original Set:\", my_set)\n",
        "\n",
        "# Clear all elements from the set\n",
        "my_set.clear()\n",
        "\n",
        "# Print the set after clearing\n",
        "print(\"Set after clearing:\", my_set)\n"
      ],
      "metadata": {
        "colab": {
          "base_uri": "https://localhost:8080/"
        },
        "id": "aNgQEBWH4ZTl",
        "outputId": "5bda1b78-c750-4102-abd5-d3c47d0e2819"
      },
      "execution_count": 21,
      "outputs": [
        {
          "output_type": "stream",
          "name": "stdout",
          "text": [
            "Original Set: {1, 2, 3, 4, 5}\n",
            "Set after clearing: set()\n"
          ]
        }
      ]
    },
    {
      "cell_type": "markdown",
      "source": [
        "18. Write a code to remove the element 4 from the set {1, 2, 3, 4}."
      ],
      "metadata": {
        "id": "I2_l9X2n4q5N"
      }
    },
    {
      "cell_type": "code",
      "source": [
        "# Create a set with the elements {1, 2, 3, 4}\n",
        "my_set = {1, 2, 3, 4}\n",
        "\n",
        "# Print the original set\n",
        "print(\"Original Set:\", my_set)\n",
        "\n",
        "# Remove the element 4 from the set\n",
        "my_set.discard(4)\n",
        "\n",
        "# Print the set after removing 4\n",
        "print(\"Set after removing 4:\", my_set)\n"
      ],
      "metadata": {
        "colab": {
          "base_uri": "https://localhost:8080/"
        },
        "id": "Awf3JOgc5Zu0",
        "outputId": "01eca9d0-63fb-4c01-8eb4-0a981d2ff792"
      },
      "execution_count": 22,
      "outputs": [
        {
          "output_type": "stream",
          "name": "stdout",
          "text": [
            "Original Set: {1, 2, 3, 4}\n",
            "Set after removing 4: {1, 2, 3}\n"
          ]
        }
      ]
    },
    {
      "cell_type": "markdown",
      "source": [
        "19. Write a code to find the union of two sets {1, 2, 3} and {3, 4, 5}."
      ],
      "metadata": {
        "id": "pwRmdzOF5ljt"
      }
    },
    {
      "cell_type": "code",
      "source": [
        "# Define the sets\n",
        "set1 = {1, 2, 3}\n",
        "set2 = {3, 4, 5}\n",
        "\n",
        "# Find the union\n",
        "union_set = set1.union(set2)\n",
        "\n",
        "# Print the result\n",
        "print(\"Union of the two sets:\", union_set)\n"
      ],
      "metadata": {
        "colab": {
          "base_uri": "https://localhost:8080/"
        },
        "id": "5Ggpzd8O5rst",
        "outputId": "accb4bee-eff9-404d-d99b-353250fb0e48"
      },
      "execution_count": 23,
      "outputs": [
        {
          "output_type": "stream",
          "name": "stdout",
          "text": [
            "Union of the two sets: {1, 2, 3, 4, 5}\n"
          ]
        }
      ]
    },
    {
      "cell_type": "markdown",
      "source": [
        "20 Write a code to find the intersection of two sets {1, 2, 3} and {2, 3, 4}."
      ],
      "metadata": {
        "id": "hUyVhP3m6SiE"
      }
    },
    {
      "cell_type": "code",
      "source": [
        "# Define the sets\n",
        "set1 = {1, 2, 3}\n",
        "set2 = {2, 3, 4}\n",
        "\n",
        "# Find the intersection\n",
        "intersection = set1 & set2\n",
        "\n",
        "# Print the result\n",
        "print(\"Intersection:\", intersection)\n"
      ],
      "metadata": {
        "colab": {
          "base_uri": "https://localhost:8080/"
        },
        "id": "aU7z6bQ16UET",
        "outputId": "e3b0b20e-807c-4490-d719-09143af7cc0c"
      },
      "execution_count": 24,
      "outputs": [
        {
          "output_type": "stream",
          "name": "stdout",
          "text": [
            "Intersection: {2, 3}\n"
          ]
        }
      ]
    },
    {
      "cell_type": "markdown",
      "source": [
        "21. Write a code to create a dictionary with the keys \"name\", \"age\", and \"city\", and print it."
      ],
      "metadata": {
        "id": "yriX9mN_7ARs"
      }
    },
    {
      "cell_type": "code",
      "source": [
        "# Create the dictionary\n",
        "person = {\n",
        "    \"name\": \"Sushmita\",\n",
        "    \"age\": 20,\n",
        "    \"city\": \"New York\"\n",
        "}\n",
        "\n",
        "# Print the dictionary\n",
        "print(person)\n"
      ],
      "metadata": {
        "colab": {
          "base_uri": "https://localhost:8080/"
        },
        "id": "pE3Zv3f47Rq0",
        "outputId": "7f1b024e-15a6-4940-cbdd-e1d3b1eaf939"
      },
      "execution_count": 35,
      "outputs": [
        {
          "output_type": "stream",
          "name": "stdout",
          "text": [
            "{'name': 'Sushmita', 'age': 20, 'city': 'New York'}\n"
          ]
        }
      ]
    },
    {
      "cell_type": "markdown",
      "source": [
        "22. Write a code to add a new key-value pair \"country\": \"USA\" to the dictionary {'name': 'John', 'age': 25}."
      ],
      "metadata": {
        "id": "sihNmRPY7ekM"
      }
    },
    {
      "cell_type": "code",
      "source": [
        "# Original dictionary\n",
        "person = {'name': 'John', 'age': 30}\n",
        "\n",
        "# Add new key-value pair\n",
        "person['country'] = 'USA'\n",
        "\n",
        "# Print the updated dictionary\n",
        "print(person)\n"
      ],
      "metadata": {
        "colab": {
          "base_uri": "https://localhost:8080/"
        },
        "id": "yTU323d97jxs",
        "outputId": "4b2c068c-af19-41b7-caae-2b36599f1921"
      },
      "execution_count": 33,
      "outputs": [
        {
          "output_type": "stream",
          "name": "stdout",
          "text": [
            "{'name': 'John', 'age': 30, 'country': 'USA'}\n"
          ]
        }
      ]
    },
    {
      "cell_type": "markdown",
      "source": [
        "23. Write a code to access the value associated with the key \"name\" in the dictionary {'name': 'Alice', 'age': 30}."
      ],
      "metadata": {
        "id": "3A2yqRwm7vbs"
      }
    },
    {
      "cell_type": "code",
      "source": [
        "# Dictionary\n",
        "person = {'name': 'Alice', 'age': 30}\n",
        "\n",
        "# Access value associated with the key \"name\"\n",
        "name_value = person['name']\n",
        "\n",
        "# Print the value\n",
        "print(name_value)\n"
      ],
      "metadata": {
        "colab": {
          "base_uri": "https://localhost:8080/"
        },
        "id": "BFV9NPrp8CWL",
        "outputId": "3cc0fac2-cac1-4d6d-dafe-4e8e4ca537aa"
      },
      "execution_count": 32,
      "outputs": [
        {
          "output_type": "stream",
          "name": "stdout",
          "text": [
            "Alice\n"
          ]
        }
      ]
    },
    {
      "cell_type": "markdown",
      "source": [
        "24. Write a code to remove the key \"age\" from the dictionary {'name': 'Bob', 'age': 22, 'city': 'New York'}."
      ],
      "metadata": {
        "id": "oHad1jTg8QPD"
      }
    },
    {
      "cell_type": "code",
      "source": [
        "# Original dictionary\n",
        "person = {'name': 'Bob', 'age': 22, 'city': 'New York'}\n",
        "\n",
        "# Remove the key \"age\"\n",
        "del person['age']\n",
        "\n",
        "# Print the updated dictionary\n",
        "print(person)\n"
      ],
      "metadata": {
        "colab": {
          "base_uri": "https://localhost:8080/"
        },
        "id": "utcA-5K28RpE",
        "outputId": "7cb79639-097b-435e-f1b0-e5bdbcd24be8"
      },
      "execution_count": 31,
      "outputs": [
        {
          "output_type": "stream",
          "name": "stdout",
          "text": [
            "{'name': 'Bob', 'city': 'New York'}\n"
          ]
        }
      ]
    },
    {
      "cell_type": "markdown",
      "source": [
        "25. Write a code to check if the key \"city\" exists in the dictionary {'name': 'Alice', 'city': 'Paris'}."
      ],
      "metadata": {
        "id": "lwnXbiJm9B7s"
      }
    },
    {
      "cell_type": "code",
      "source": [
        "# Dictionary\n",
        "person = {'name': 'Alice', 'city': 'Paris'}\n",
        "\n",
        "# Check if \"city\" key exists\n",
        "if 'city' in person:\n",
        "    print(\"Key 'city' exists in the dictionary.\")\n",
        "else:\n",
        "    print(\"Key 'city' does not exist in the dictionary.\")\n"
      ],
      "metadata": {
        "colab": {
          "base_uri": "https://localhost:8080/"
        },
        "id": "u5uVljC59EnL",
        "outputId": "7251112d-d6be-4a3e-8af0-365ec317291c"
      },
      "execution_count": 36,
      "outputs": [
        {
          "output_type": "stream",
          "name": "stdout",
          "text": [
            "Key 'city' exists in the dictionary.\n"
          ]
        }
      ]
    },
    {
      "cell_type": "markdown",
      "source": [
        "26. Write a code to create a list, a tuple, and a dictionary, and print them all."
      ],
      "metadata": {
        "id": "eb3yjRar97xM"
      }
    },
    {
      "cell_type": "code",
      "source": [
        "# Create a list\n",
        "my_list = [1, 2, 3, 4, 5]\n",
        "\n",
        "# Create a tuple\n",
        "my_tuple = ('apple', 'banana', 'cherry')\n",
        "\n",
        "# Create a dictionary\n",
        "my_dict = {'name': 'John', 'age': 28, 'city': 'London'}\n",
        "\n",
        "# Print all of them\n",
        "print(\"List:\", my_list)\n",
        "print(\"Tuple:\", my_tuple)\n",
        "print(\"Dictionary:\", my_dict)\n"
      ],
      "metadata": {
        "colab": {
          "base_uri": "https://localhost:8080/"
        },
        "id": "nxZ2cYn3-EJT",
        "outputId": "fccd772d-f904-45e8-ec01-eac5f5c49903"
      },
      "execution_count": 37,
      "outputs": [
        {
          "output_type": "stream",
          "name": "stdout",
          "text": [
            "List: [1, 2, 3, 4, 5]\n",
            "Tuple: ('apple', 'banana', 'cherry')\n",
            "Dictionary: {'name': 'John', 'age': 28, 'city': 'London'}\n"
          ]
        }
      ]
    },
    {
      "cell_type": "markdown",
      "source": [
        "27. Write a code to create a list of 5 random numbers between 1 and 100, sort it in ascending order, and print the\n",
        "result.(replaced)"
      ],
      "metadata": {
        "id": "jtLhJ1KH-Vlz"
      }
    },
    {
      "cell_type": "code",
      "source": [
        "import random\n",
        "\n",
        "# Create a list of 5 random numbers between 1 and 100\n",
        "random_numbers = [random.randint(1, 100) for _ in range(5)]\n",
        "\n",
        "# Sort the list in ascending order\n",
        "random_numbers.sort()\n",
        "\n",
        "# Print the result\n",
        "print(\"Sorted random numbers:\", random_numbers)\n"
      ],
      "metadata": {
        "colab": {
          "base_uri": "https://localhost:8080/"
        },
        "id": "_JGcwt2U-afi",
        "outputId": "e7112473-2d3c-4d9b-c269-cfd83ccc47c7"
      },
      "execution_count": 38,
      "outputs": [
        {
          "output_type": "stream",
          "name": "stdout",
          "text": [
            "Sorted random numbers: [4, 27, 38, 45, 63]\n"
          ]
        }
      ]
    },
    {
      "cell_type": "markdown",
      "source": [
        "28. Write a code to create a list with strings and print the element at the third index."
      ],
      "metadata": {
        "id": "Fcs7u1BZ-h1K"
      }
    },
    {
      "cell_type": "code",
      "source": [
        "# Create a list with strings\n",
        "words = [\"hello\", \"world\", \"python\", \"code\", \"chatgpt\"]\n",
        "\n",
        "# Print the element at the third index (index 3)\n",
        "print(\"Element at index 3:\", words[3])\n"
      ],
      "metadata": {
        "colab": {
          "base_uri": "https://localhost:8080/"
        },
        "id": "yd41BaQr_e5k",
        "outputId": "f40f8bee-01c9-4e19-b30f-73e461cb3c8b"
      },
      "execution_count": 39,
      "outputs": [
        {
          "output_type": "stream",
          "name": "stdout",
          "text": [
            "Element at index 3: code\n"
          ]
        }
      ]
    },
    {
      "cell_type": "markdown",
      "source": [
        "29. Write a code to combine two dictionaries into one and print the result."
      ],
      "metadata": {
        "id": "9-xjjZ5Y_ohK"
      }
    },
    {
      "cell_type": "code",
      "source": [
        "# Define the dictionaries\n",
        "dict1 = {'name': 'John', 'age': 30}\n",
        "dict2 = {'city': 'New York', 'job': 'Engineer'}\n",
        "\n",
        "# Create a copy of dict1 to avoid modifying the original\n",
        "combined_dict = dict1.copy()\n",
        "\n",
        "# Update combined_dict with dict2\n",
        "combined_dict.update(dict2)\n",
        "\n",
        "# Print the combined dictionary\n",
        "print(combined_dict)\n"
      ],
      "metadata": {
        "colab": {
          "base_uri": "https://localhost:8080/"
        },
        "id": "R-7gZA-9_pZa",
        "outputId": "b7dd68ca-dad2-4054-aa7b-7e3255fec194"
      },
      "execution_count": 40,
      "outputs": [
        {
          "output_type": "stream",
          "name": "stdout",
          "text": [
            "{'name': 'John', 'age': 30, 'city': 'New York', 'job': 'Engineer'}\n"
          ]
        }
      ]
    },
    {
      "cell_type": "markdown",
      "source": [
        "30. Write a code to convert a list of strings into a set."
      ],
      "metadata": {
        "id": "ymniXKOn_vpK"
      }
    },
    {
      "cell_type": "code",
      "source": [
        "# List of strings\n",
        "string_list = [\"apple\", \"banana\", \"cherry\", \"apple\", \"banana\"]\n",
        "\n",
        "# Convert list to set\n",
        "string_set = set(string_list)\n",
        "\n",
        "# Print the set\n",
        "print(\"Set:\", string_set)\n"
      ],
      "metadata": {
        "colab": {
          "base_uri": "https://localhost:8080/"
        },
        "id": "eKy8twMa_-LC",
        "outputId": "df258f47-c5bf-4523-9307-acb30e77163d"
      },
      "execution_count": 42,
      "outputs": [
        {
          "output_type": "stream",
          "name": "stdout",
          "text": [
            "Set: {'cherry', 'banana', 'apple'}\n"
          ]
        }
      ]
    }
  ]
}